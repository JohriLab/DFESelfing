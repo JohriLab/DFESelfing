{
 "cells": [
  {
   "cell_type": "code",
   "execution_count": 6,
   "metadata": {},
   "outputs": [
    {
     "data": {
      "text/plain": [
       "[{'i': 0.0997, 'j': 0.2551, 'rsq': nan, 'D': 0.0, 'Dprime': nan},\n",
       " {'i': 0.0997, 'j': 0.36, 'rsq': nan, 'D': 0.0, 'Dprime': nan},\n",
       " {'i': 0.2551, 'j': 0.36, 'rsq': nan, 'D': 0.0, 'Dprime': nan}]"
      ]
     },
     "execution_count": 6,
     "metadata": {},
     "output_type": "execute_result"
    }
   ],
   "source": [
    "import libsequence\n",
    "rawDataPos=[0.0997, 0.2551, 0.3600, 0.4831, 0.5205, 0.5668, 0.5824, 0.6213, 0.7499, 0.9669]\n",
    "#rawDataGenos=['0000001010',\n",
    "#   '1111110101',\n",
    "#   '1000001010',\n",
    "#   '1000000010',\n",
    "#   '1000001010',\n",
    "#   '1111010100',\n",
    "#   '1111010100',\n",
    "#   '1111110100',\n",
    "#   '1111010100',\n",
    "#   '1111010100']\n",
    "   \n",
    "rawDataGenos=['110',\n",
    "   '001',\n",
    "   '101']\n",
    "\n",
    "#turn genotypes into list of positions\n",
    "result = [''.join(characters) for characters in zip(*rawDataGenos)]\n",
    "#print(result)\n",
    "\n",
    "combined_list = list(zip(rawDataPos, result))\n",
    "#print(combined_list)\n",
    "sd = libsequence.SimData(combined_list)\n",
    "#print(sd)\n",
    "libsequence.ld(sd, have_outgroup=True)"
   ]
  },
  {
   "cell_type": "code",
   "execution_count": 41,
   "metadata": {},
   "outputs": [
    {
     "name": "stdout",
     "output_type": "stream",
     "text": [
      "//\n",
      "segsites: 2\n",
      "positions: 0.0997 0.36\n",
      "10\n",
      "01\n",
      "11\n",
      "//\n",
      "segsites: 0\n",
      "\n",
      "\n",
      "<class 'int'>\n"
     ]
    }
   ],
   "source": [
    "ps = libsequence.PolySIM(sd)\n",
    "ps.tajimasd()\n",
    "\n",
    "#remove all derived singletons\n",
    "sd2 = libsequence.removeColumns(sd,lambda x : x.one != 1)\n",
    "print(sd2)\n",
    "\n",
    "#keep only derived singletons\n",
    "sd3 = libsequence.removeColumns(sd,lambda x : x.one == 4)\n",
    "print(sd3)\n",
    "\n",
    "libsequence.ld(sd)\n",
    "\n",
    "print(type(0))\n"
   ]
  },
  {
   "cell_type": "code",
   "execution_count": 2,
   "metadata": {},
   "outputs": [
    {
     "name": "stdout",
     "output_type": "stream",
     "text": [
      "//\n",
      "segsites: 3\n",
      "positions: 0.0997 0.2551 0.36\n",
      "110\n",
      "001\n",
      "101\n"
     ]
    },
    {
     "data": {
      "text/plain": [
       "[{'i': 0.0997,\n",
       "  'j': 0.2551,\n",
       "  'rsq': 0.25,\n",
       "  'D': -0.1111111111111111,\n",
       "  'Dprime': -1.0},\n",
       " {'i': 0.0997,\n",
       "  'j': 0.36,\n",
       "  'rsq': 0.25,\n",
       "  'D': -0.1111111111111111,\n",
       "  'Dprime': -1.0},\n",
       " {'i': 0.2551, 'j': 0.36, 'rsq': 1.0, 'D': 0.2222222222222222, 'Dprime': 1.0}]"
      ]
     },
     "execution_count": 2,
     "metadata": {},
     "output_type": "execute_result"
    }
   ],
   "source": [
    "print(sd)\n",
    "libsequence.ld(sd)"
   ]
  }
 ],
 "metadata": {
  "kernelspec": {
   "display_name": "pylibseq2",
   "language": "python",
   "name": "python3"
  },
  "language_info": {
   "codemirror_mode": {
    "name": "ipython",
    "version": 3
   },
   "file_extension": ".py",
   "mimetype": "text/x-python",
   "name": "python",
   "nbconvert_exporter": "python",
   "pygments_lexer": "ipython3",
   "version": "3.10.12"
  }
 },
 "nbformat": 4,
 "nbformat_minor": 2
}
